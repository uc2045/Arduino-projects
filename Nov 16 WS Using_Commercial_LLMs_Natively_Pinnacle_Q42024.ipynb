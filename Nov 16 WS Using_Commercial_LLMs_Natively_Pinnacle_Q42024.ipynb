{
  "nbformat": 4,
  "nbformat_minor": 0,
  "metadata": {
    "colab": {
      "provenance": [],
      "include_colab_link": true
    },
    "kernelspec": {
      "name": "python3",
      "display_name": "Python 3"
    },
    "language_info": {
      "name": "python"
    }
  },
  "cells": [
    {
      "cell_type": "markdown",
      "metadata": {
        "id": "view-in-github",
        "colab_type": "text"
      },
      "source": [
        "<a href=\"https://colab.research.google.com/github/uc2045/Arduino-projects/blob/master/Nov%2016%20WS%20Using_Commercial_LLMs_Natively_Pinnacle_Q42024.ipynb\" target=\"_parent\"><img src=\"https://colab.research.google.com/assets/colab-badge.svg\" alt=\"Open In Colab\"/></a>"
      ]
    },
    {
      "cell_type": "markdown",
      "source": [
        "# Using Commercial LLMs Natively\n",
        "\n",
        "Here we will see briefly how you can use popular commercial LLM APIs including\n",
        "\n",
        "- OpenAI GPT (Paid)\n",
        "- Google Gemini (Paid and Free)"
      ],
      "metadata": {
        "id": "ZEUwOj-GYnm8"
      }
    },
    {
      "cell_type": "markdown",
      "source": [
        "## Install Dependencies"
      ],
      "metadata": {
        "id": "xWR3sUEoYj9R"
      }
    },
    {
      "cell_type": "code",
      "execution_count": null,
      "metadata": {
        "colab": {
          "base_uri": "https://localhost:8080/"
        },
        "id": "YeG3DmGq4uV-",
        "outputId": "42bc923a-e0db-4ee5-b492-7d9ab99233b2"
      },
      "outputs": [
        {
          "output_type": "stream",
          "name": "stdout",
          "text": [
            "Requirement already satisfied: openai==1.52.0 in /usr/local/lib/python3.10/dist-packages (1.52.0)\n",
            "Requirement already satisfied: anyio<5,>=3.5.0 in /usr/local/lib/python3.10/dist-packages (from openai==1.52.0) (3.7.1)\n",
            "Requirement already satisfied: distro<2,>=1.7.0 in /usr/local/lib/python3.10/dist-packages (from openai==1.52.0) (1.9.0)\n",
            "Requirement already satisfied: httpx<1,>=0.23.0 in /usr/local/lib/python3.10/dist-packages (from openai==1.52.0) (0.27.2)\n",
            "Requirement already satisfied: jiter<1,>=0.4.0 in /usr/local/lib/python3.10/dist-packages (from openai==1.52.0) (0.6.1)\n",
            "Requirement already satisfied: pydantic<3,>=1.9.0 in /usr/local/lib/python3.10/dist-packages (from openai==1.52.0) (2.9.2)\n",
            "Requirement already satisfied: sniffio in /usr/local/lib/python3.10/dist-packages (from openai==1.52.0) (1.3.1)\n",
            "Requirement already satisfied: tqdm>4 in /usr/local/lib/python3.10/dist-packages (from openai==1.52.0) (4.66.6)\n",
            "Requirement already satisfied: typing-extensions<5,>=4.11 in /usr/local/lib/python3.10/dist-packages (from openai==1.52.0) (4.12.2)\n",
            "Requirement already satisfied: idna>=2.8 in /usr/local/lib/python3.10/dist-packages (from anyio<5,>=3.5.0->openai==1.52.0) (3.10)\n",
            "Requirement already satisfied: exceptiongroup in /usr/local/lib/python3.10/dist-packages (from anyio<5,>=3.5.0->openai==1.52.0) (1.2.2)\n",
            "Requirement already satisfied: certifi in /usr/local/lib/python3.10/dist-packages (from httpx<1,>=0.23.0->openai==1.52.0) (2024.8.30)\n",
            "Requirement already satisfied: httpcore==1.* in /usr/local/lib/python3.10/dist-packages (from httpx<1,>=0.23.0->openai==1.52.0) (1.0.6)\n",
            "Requirement already satisfied: h11<0.15,>=0.13 in /usr/local/lib/python3.10/dist-packages (from httpcore==1.*->httpx<1,>=0.23.0->openai==1.52.0) (0.14.0)\n",
            "Requirement already satisfied: annotated-types>=0.6.0 in /usr/local/lib/python3.10/dist-packages (from pydantic<3,>=1.9.0->openai==1.52.0) (0.7.0)\n",
            "Requirement already satisfied: pydantic-core==2.23.4 in /usr/local/lib/python3.10/dist-packages (from pydantic<3,>=1.9.0->openai==1.52.0) (2.23.4)\n",
            "Requirement already satisfied: google-generativeai==0.7.2 in /usr/local/lib/python3.10/dist-packages (0.7.2)\n",
            "Requirement already satisfied: google-ai-generativelanguage==0.6.6 in /usr/local/lib/python3.10/dist-packages (from google-generativeai==0.7.2) (0.6.6)\n",
            "Requirement already satisfied: google-api-core in /usr/local/lib/python3.10/dist-packages (from google-generativeai==0.7.2) (2.19.2)\n",
            "Requirement already satisfied: google-api-python-client in /usr/local/lib/python3.10/dist-packages (from google-generativeai==0.7.2) (2.137.0)\n",
            "Requirement already satisfied: google-auth>=2.15.0 in /usr/local/lib/python3.10/dist-packages (from google-generativeai==0.7.2) (2.27.0)\n",
            "Requirement already satisfied: protobuf in /usr/local/lib/python3.10/dist-packages (from google-generativeai==0.7.2) (3.20.3)\n",
            "Requirement already satisfied: pydantic in /usr/local/lib/python3.10/dist-packages (from google-generativeai==0.7.2) (2.9.2)\n",
            "Requirement already satisfied: tqdm in /usr/local/lib/python3.10/dist-packages (from google-generativeai==0.7.2) (4.66.6)\n",
            "Requirement already satisfied: typing-extensions in /usr/local/lib/python3.10/dist-packages (from google-generativeai==0.7.2) (4.12.2)\n",
            "Requirement already satisfied: proto-plus<2.0.0dev,>=1.22.3 in /usr/local/lib/python3.10/dist-packages (from google-ai-generativelanguage==0.6.6->google-generativeai==0.7.2) (1.25.0)\n",
            "Requirement already satisfied: googleapis-common-protos<2.0.dev0,>=1.56.2 in /usr/local/lib/python3.10/dist-packages (from google-api-core->google-generativeai==0.7.2) (1.65.0)\n",
            "Requirement already satisfied: requests<3.0.0.dev0,>=2.18.0 in /usr/local/lib/python3.10/dist-packages (from google-api-core->google-generativeai==0.7.2) (2.32.3)\n",
            "Requirement already satisfied: cachetools<6.0,>=2.0.0 in /usr/local/lib/python3.10/dist-packages (from google-auth>=2.15.0->google-generativeai==0.7.2) (5.5.0)\n",
            "Requirement already satisfied: pyasn1-modules>=0.2.1 in /usr/local/lib/python3.10/dist-packages (from google-auth>=2.15.0->google-generativeai==0.7.2) (0.4.1)\n",
            "Requirement already satisfied: rsa<5,>=3.1.4 in /usr/local/lib/python3.10/dist-packages (from google-auth>=2.15.0->google-generativeai==0.7.2) (4.9)\n",
            "Requirement already satisfied: httplib2<1.dev0,>=0.19.0 in /usr/local/lib/python3.10/dist-packages (from google-api-python-client->google-generativeai==0.7.2) (0.22.0)\n",
            "Requirement already satisfied: google-auth-httplib2<1.0.0,>=0.2.0 in /usr/local/lib/python3.10/dist-packages (from google-api-python-client->google-generativeai==0.7.2) (0.2.0)\n",
            "Requirement already satisfied: uritemplate<5,>=3.0.1 in /usr/local/lib/python3.10/dist-packages (from google-api-python-client->google-generativeai==0.7.2) (4.1.1)\n",
            "Requirement already satisfied: annotated-types>=0.6.0 in /usr/local/lib/python3.10/dist-packages (from pydantic->google-generativeai==0.7.2) (0.7.0)\n",
            "Requirement already satisfied: pydantic-core==2.23.4 in /usr/local/lib/python3.10/dist-packages (from pydantic->google-generativeai==0.7.2) (2.23.4)\n",
            "Requirement already satisfied: grpcio<2.0dev,>=1.33.2 in /usr/local/lib/python3.10/dist-packages (from google-api-core[grpc]!=2.0.*,!=2.1.*,!=2.10.*,!=2.2.*,!=2.3.*,!=2.4.*,!=2.5.*,!=2.6.*,!=2.7.*,!=2.8.*,!=2.9.*,<3.0.0dev,>=1.34.1->google-ai-generativelanguage==0.6.6->google-generativeai==0.7.2) (1.64.1)\n",
            "Requirement already satisfied: grpcio-status<2.0.dev0,>=1.33.2 in /usr/local/lib/python3.10/dist-packages (from google-api-core[grpc]!=2.0.*,!=2.1.*,!=2.10.*,!=2.2.*,!=2.3.*,!=2.4.*,!=2.5.*,!=2.6.*,!=2.7.*,!=2.8.*,!=2.9.*,<3.0.0dev,>=1.34.1->google-ai-generativelanguage==0.6.6->google-generativeai==0.7.2) (1.48.2)\n",
            "Requirement already satisfied: pyparsing!=3.0.0,!=3.0.1,!=3.0.2,!=3.0.3,<4,>=2.4.2 in /usr/local/lib/python3.10/dist-packages (from httplib2<1.dev0,>=0.19.0->google-api-python-client->google-generativeai==0.7.2) (3.2.0)\n",
            "Requirement already satisfied: pyasn1<0.7.0,>=0.4.6 in /usr/local/lib/python3.10/dist-packages (from pyasn1-modules>=0.2.1->google-auth>=2.15.0->google-generativeai==0.7.2) (0.6.1)\n",
            "Requirement already satisfied: charset-normalizer<4,>=2 in /usr/local/lib/python3.10/dist-packages (from requests<3.0.0.dev0,>=2.18.0->google-api-core->google-generativeai==0.7.2) (3.4.0)\n",
            "Requirement already satisfied: idna<4,>=2.5 in /usr/local/lib/python3.10/dist-packages (from requests<3.0.0.dev0,>=2.18.0->google-api-core->google-generativeai==0.7.2) (3.10)\n",
            "Requirement already satisfied: urllib3<3,>=1.21.1 in /usr/local/lib/python3.10/dist-packages (from requests<3.0.0.dev0,>=2.18.0->google-api-core->google-generativeai==0.7.2) (2.2.3)\n",
            "Requirement already satisfied: certifi>=2017.4.17 in /usr/local/lib/python3.10/dist-packages (from requests<3.0.0.dev0,>=2.18.0->google-api-core->google-generativeai==0.7.2) (2024.8.30)\n"
          ]
        }
      ],
      "source": [
        "!pip install openai==1.52.0\n",
        "!pip install google-generativeai==0.7.2"
      ]
    },
    {
      "cell_type": "markdown",
      "source": [
        "## Get OpenAI API Key\n",
        "\n",
        "Here you need to get API keys from the following websites based on your LLM preference:\n",
        "\n",
        "- Open AI API Key: Go [here](https://platform.openai.com/account/api-keys) and create a key, you need to setup an account and your own billing as this is a paid API. Unfortunately as per recent updates, OpenAI has phased out the free 5\\$ credits. In order to use the API, you now have to pay in your own funds (min: 5\\$).\n",
        "\n",
        "\n",
        "1. Go to [Settings -> Billing](https://platform.openai.com/settings/organization/billing/overview) after creating your account and make sure to add in a payment method and do a minimum 5$ topup (good enough for 1000s of calls as you are charged per token)\n",
        "\n",
        "![](https://i.imgur.com/pXgs31r.png)\n",
        "\n",
        "2. Go to [Dashboard -> API Keys](https://platform.openai.com/api-keys) and create a new project API key as shown below.\n",
        "\n",
        "\n",
        "![](https://i.imgur.com/YbIBBtc.png)\n",
        "\n",
        "\n",
        "\n",
        "3. Remember to __Save__ your key somewhere safe as it will just be shown once as shown below. So copy and save it in a local secure file to use it later on. If you forget, just create a new key anytime.\n",
        "\n",
        "![](https://i.imgur.com/myFXgZg.png)"
      ],
      "metadata": {
        "id": "eQCfDLCm9-nR"
      }
    },
    {
      "cell_type": "markdown",
      "source": [
        "## Load OpenAI API Credentials\n"
      ],
      "metadata": {
        "id": "CiwGjVWK4q6F"
      }
    },
    {
      "cell_type": "code",
      "execution_count": null,
      "metadata": {
        "id": "ryheOZuXxa41",
        "colab": {
          "base_uri": "https://localhost:8080/"
        },
        "outputId": "48baffcf-e35b-4563-9890-a33fb9e2f1b4"
      },
      "outputs": [
        {
          "name": "stdout",
          "output_type": "stream",
          "text": [
            "Enter your OpenAI API Key: ··········\n"
          ]
        }
      ],
      "source": [
        "from getpass import getpass\n",
        "\n",
        "openai_key = getpass(\"Enter your OpenAI API Key: \")"
      ]
    },
    {
      "cell_type": "markdown",
      "source": [
        "## Using ChatGPT Directly via API\n",
        "\n",
        "This is if you want to use it without wrappers like LangChain, we will show you how you use ChatGPT via the Open AI library and then how you can do the same for Gemini with Google's Gen AI library"
      ],
      "metadata": {
        "id": "d7CHjZfEAPlp"
      }
    },
    {
      "cell_type": "markdown",
      "source": [
        "## Configure Open AI Key in Environment"
      ],
      "metadata": {
        "id": "Sg7UuFD6AhiL"
      }
    },
    {
      "cell_type": "code",
      "source": [
        "import openai\n",
        "\n",
        "openai.api_key = openai_key"
      ],
      "metadata": {
        "id": "kDe44J0N0NcC"
      },
      "execution_count": null,
      "outputs": []
    },
    {
      "cell_type": "markdown",
      "source": [
        "## API Pricing\n",
        "\n",
        "Right now the best models to use include GPT-4o-mini considering price and GPT-4o considering performance. GPT-3.5-Turbo is also a good stable alternative. Check out [pricing details here](https://openai.com/api/pricing/)\n",
        "\n",
        "![](https://i.imgur.com/U0C1Xhx.png)"
      ],
      "metadata": {
        "id": "AxiB15nq9iJc"
      }
    },
    {
      "cell_type": "markdown",
      "source": [
        "## Use ChatGPT for Prompting"
      ],
      "metadata": {
        "id": "HabRE4PZAz80"
      }
    },
    {
      "cell_type": "code",
      "source": [
        "def get_completion_chatgpt(prompt, model=\"gpt-4o-mini\"):\n",
        "    messages = [{\"role\": \"user\", \"content\": prompt}]\n",
        "    response = openai.chat.completions.create(\n",
        "        model=model,\n",
        "        messages=messages,\n",
        "        temperature=0, # degree of randomness of the model's output\n",
        "    )\n",
        "    return response.choices[0].message.content"
      ],
      "metadata": {
        "id": "ZWGDT9m2A2GI"
      },
      "execution_count": null,
      "outputs": []
    },
    {
      "cell_type": "code",
      "source": [
        "prompt = 'Explain Generative AI in 2 bullet points'\n",
        "response = get_completion_chatgpt(prompt=prompt, model=\"gpt-4o-mini\")\n",
        "\n",
        "print(response)"
      ],
      "metadata": {
        "colab": {
          "base_uri": "https://localhost:8080/"
        },
        "id": "yI_rv0EKBCGP",
        "outputId": "37445f27-f02e-4f4e-b0fb-f8e9ce82c100"
      },
      "execution_count": null,
      "outputs": [
        {
          "output_type": "stream",
          "name": "stdout",
          "text": [
            "- **Definition and Functionality**: Generative AI refers to a class of artificial intelligence models that can create new content, such as text, images, music, or videos, by learning patterns and structures from existing data. These models, like GPT and GANs, utilize deep learning techniques to generate outputs that mimic human-like creativity.\n",
            "\n",
            "- **Applications and Impact**: Generative AI has a wide range of applications, including content creation, design, gaming, and personalized experiences. Its ability to produce high-quality, original content can enhance productivity and innovation across various industries, but it also raises ethical concerns regarding copyright, misinformation, and the potential for misuse.\n"
          ]
        }
      ]
    },
    {
      "cell_type": "code",
      "source": [
        "prompt = 'Explain Generative AI in 2 bullet points'\n",
        "response = get_completion_chatgpt(prompt=prompt, model=\"gpt-3.5-turbo\")\n",
        "\n",
        "print(response)"
      ],
      "metadata": {
        "colab": {
          "base_uri": "https://localhost:8080/"
        },
        "id": "ryaxUy_Q6UCA",
        "outputId": "0d598b86-a9a8-4e20-a4c4-6ef1729550f7"
      },
      "execution_count": null,
      "outputs": [
        {
          "output_type": "stream",
          "name": "stdout",
          "text": [
            "- Generative AI is a type of artificial intelligence that is capable of creating new content, such as images, text, or music, based on patterns and data it has been trained on.\n",
            "- This technology can be used in a variety of applications, including creating realistic images for video games, generating personalized content for marketing campaigns, or even composing music or writing stories.\n"
          ]
        }
      ]
    },
    {
      "cell_type": "code",
      "source": [],
      "metadata": {
        "id": "dujtW6I26UEP"
      },
      "execution_count": null,
      "outputs": []
    },
    {
      "cell_type": "markdown",
      "source": [
        "## Get Google Gemini API Key\n",
        "\n",
        "Here you need to get API keys from the following websites based on your LLM preference:\n",
        "\n",
        "- - Gemini API Key: Go [here](https://aistudio.google.com/app/u/0/apikey) and create a key, you just need a gmail account to sign in. Till now (Oct-2024 so far), Gemini keys do not need billing as mentioned [here](https://ai.google.dev/pricing)\n",
        "\n",
        "\n",
        "1. Go to [Get API Key -> Create API Key](https://aistudio.google.com/app/u/0/apikey) after creating your account and you should be able to generate your API Key\n",
        "\n",
        "![](https://i.imgur.com/UYVkKmK.png)\n",
        "\n",
        "2. Remember to __Save__ your key somewhere safe. So copy and save it in a local secure file to use it later on.\n",
        "\n",
        "![](https://i.imgur.com/9JZyw2t.png)"
      ],
      "metadata": {
        "id": "DfBA2hsIBMGN"
      }
    },
    {
      "cell_type": "markdown",
      "source": [
        "## Load Gemini API credentials\n",
        "\n",
        "Run this section only if you are using Google Gemini"
      ],
      "metadata": {
        "id": "LS7koM2emZ_M"
      }
    },
    {
      "cell_type": "code",
      "source": [
        "from getpass import getpass\n",
        "\n",
        "gemini_key = getpass(\"Enter your Gemini API Key: \")"
      ],
      "metadata": {
        "id": "YgpTrZ6rVd4I",
        "colab": {
          "base_uri": "https://localhost:8080/"
        },
        "outputId": "08d3fbfb-6581-456d-b4d8-eb5a91d71f0e"
      },
      "execution_count": null,
      "outputs": [
        {
          "name": "stdout",
          "output_type": "stream",
          "text": [
            "Enter your Gemini API Key: ··········\n"
          ]
        }
      ]
    },
    {
      "cell_type": "markdown",
      "source": [
        "## Configure Gemini Key in Environment"
      ],
      "metadata": {
        "id": "BUuyA3uGAmRf"
      }
    },
    {
      "cell_type": "code",
      "source": [
        "import google.generativeai as genai\n",
        "\n",
        "genai.configure(api_key=gemini_key)"
      ],
      "metadata": {
        "id": "8e5UfkRlAoo5"
      },
      "execution_count": null,
      "outputs": []
    },
    {
      "cell_type": "markdown",
      "source": [
        "## API Pricing\n",
        "\n",
        "Right now the best models to use include Gemini 1.5 Flash and Gemini 1.5 Pro. Check out [pricing details here](https://ai.google.dev/pricing)\n",
        "\n",
        "![](https://i.imgur.com/8hR2Ti8.png)"
      ],
      "metadata": {
        "id": "2rMFzIsCL8nI"
      }
    },
    {
      "cell_type": "markdown",
      "source": [
        "## Use Gemini for Prompting"
      ],
      "metadata": {
        "id": "gWs79BIjBQCv"
      }
    },
    {
      "cell_type": "code",
      "source": [
        "# use model names only from this list\n",
        "# late 2024, latest model is gemini-1.5-flash-latest\n",
        "for m in genai.list_models():\n",
        "  if 'generateContent' in m.supported_generation_methods:\n",
        "    print(m.name)"
      ],
      "metadata": {
        "colab": {
          "base_uri": "https://localhost:8080/",
          "height": 416
        },
        "id": "yRQaYbH1BWbU",
        "outputId": "1314c002-b44b-4c73-f49a-ac85b03228ca"
      },
      "execution_count": null,
      "outputs": [
        {
          "output_type": "stream",
          "name": "stdout",
          "text": [
            "models/gemini-1.0-pro-latest\n",
            "models/gemini-1.0-pro\n",
            "models/gemini-pro\n",
            "models/gemini-1.0-pro-001\n",
            "models/gemini-1.0-pro-vision-latest\n",
            "models/gemini-pro-vision\n",
            "models/gemini-1.5-pro-latest\n",
            "models/gemini-1.5-pro-001\n",
            "models/gemini-1.5-pro-002\n",
            "models/gemini-1.5-pro\n",
            "models/gemini-1.5-pro-exp-0801\n",
            "models/gemini-1.5-pro-exp-0827\n",
            "models/gemini-1.5-flash-latest\n",
            "models/gemini-1.5-flash-001\n",
            "models/gemini-1.5-flash-001-tuning\n",
            "models/gemini-1.5-flash\n",
            "models/gemini-1.5-flash-exp-0827\n",
            "models/gemini-1.5-flash-002\n",
            "models/gemini-1.5-flash-8b\n",
            "models/gemini-1.5-flash-8b-001\n",
            "models/gemini-1.5-flash-8b-latest\n",
            "models/gemini-1.5-flash-8b-exp-0827\n",
            "models/gemini-1.5-flash-8b-exp-0924\n"
          ]
        }
      ]
    },
    {
      "cell_type": "code",
      "source": [
        "def get_completion_gemini(prompt, model=\"gemini-1.5-flash-latest\"):\n",
        "    model = genai.GenerativeModel(model)\n",
        "    response = model.generate_content(prompt)\n",
        "    return response.text"
      ],
      "metadata": {
        "id": "5K-Izx12X-q_"
      },
      "execution_count": null,
      "outputs": []
    },
    {
      "cell_type": "code",
      "source": [
        "prompt = 'Explain Generative AI in 2 bullet points'\n",
        "response = get_completion_gemini(prompt=prompt, model=\"gemini-1.5-flash-latest\")\n",
        "\n",
        "print(response)"
      ],
      "metadata": {
        "colab": {
          "base_uri": "https://localhost:8080/",
          "height": 89
        },
        "id": "rkKu-sppYN3z",
        "outputId": "443f89f9-f7b3-4033-8353-65d23a671f46"
      },
      "execution_count": null,
      "outputs": [
        {
          "output_type": "stream",
          "name": "stdout",
          "text": [
            "* **Generative AI creates new content (text, images, audio, video, code) based on existing data it has been trained on.** It learns patterns and relationships from the training data and uses this knowledge to generate similar but new content.\n",
            "* **Examples include:**  writing creative stories, composing music, generating realistic images, and creating code. \n",
            "\n"
          ]
        }
      ]
    },
    {
      "cell_type": "code",
      "source": [
        "prompt = 'Explain Generative AI in 2 bullet points'\n",
        "response = get_completion_gemini(prompt=prompt, model=\"gemini-1.5-pro-latest\")\n",
        "\n",
        "print(response)"
      ],
      "metadata": {
        "colab": {
          "base_uri": "https://localhost:8080/",
          "height": 89
        },
        "id": "SkLJMVdqYUqI",
        "outputId": "bb7b8a0b-8c70-4d3b-a824-51c14dce1601"
      },
      "execution_count": null,
      "outputs": [
        {
          "output_type": "stream",
          "name": "stdout",
          "text": [
            "* **Creates new content:** Generative AI algorithms learn patterns from existing data (text, images, audio, code, etc.) and then generate similar but novel content.  They don't just regurgitate the training data, but create something new based on it.\n",
            "* **Powered by deep learning:** These models typically rely on deep learning techniques, especially neural networks, to identify complex relationships in data and then use these relationships to generate outputs.\n",
            "\n"
          ]
        }
      ]
    }
  ]
}